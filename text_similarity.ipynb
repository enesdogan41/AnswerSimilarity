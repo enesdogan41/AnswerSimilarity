{
 "cells": [
  {
   "cell_type": "markdown",
   "metadata": {},
   "source": [
    "##                THIS IS A SIMPLE ANSWER SIMILARITY PROJECT\n",
    "## DUE TO PRIVACY I DO NOT SHARE THE EXCEL FILES AND STUDENTS' NAMES. "
   ]
  },
  {
   "cell_type": "code",
   "execution_count": 18,
   "metadata": {},
   "outputs": [],
   "source": [
    "from difflib import SequenceMatcher as sq\n",
    "import numpy as np\n",
    "import pandas as pd"
   ]
  },
  {
   "cell_type": "code",
   "execution_count": 19,
   "metadata": {},
   "outputs": [],
   "source": [
    "# Reading the file\n",
    "df = pd.read_excel('ceng111.xlsx',na_values = '')"
   ]
  },
  {
   "cell_type": "code",
   "execution_count": 20,
   "metadata": {},
   "outputs": [],
   "source": [
    "# Fixing nan values\n",
    "df = df.replace(np.nan,' ')"
   ]
  },
  {
   "cell_type": "code",
   "execution_count": 21,
   "metadata": {},
   "outputs": [],
   "source": [
    "# Takes two answers and compares the similarity rate\n",
    "def similar(a,b):\n",
    "    return round(sq(None,a,b).ratio(),2)"
   ]
  },
  {
   "cell_type": "code",
   "execution_count": 22,
   "metadata": {},
   "outputs": [],
   "source": [
    "# Preparing the comparing list\n",
    "name_and_notes = []\n",
    "for i,j in df.iloc[1:len(df)].iterrows():\n",
    "    if '@' in j.Name:\n",
    "        j.Name = j.Name.split('@')[0]\n",
    "    j.Name = j.Name.upper().replace(' ','')\n",
    "    notes = [j.Name , j.Q1, j.Q2, j.Q3, j.Q4]\n",
    "    name_and_notes.append(notes)"
   ]
  },
  {
   "cell_type": "code",
   "execution_count": 23,
   "metadata": {},
   "outputs": [
    {
     "name": "stdout",
     "output_type": "stream",
     "text": [
      "Literally the same Answers = 1/4 --> S-İ,81.75%\n",
      "Their answers : \n",
      "Answer1: Operating system is ... vs. operating system is ...\n",
      "Answer2: 1)Application softwa... vs. System software perf...\n",
      "Answer3: We have 2 options hi... vs. They could be given ...\n",
      "Answer4: HTML is a particular... vs. HTML is a particular...\n",
      "-----------------\n",
      "Literally the same Answers = 1/4 --> S-E,81.25%\n",
      "Their answers : \n",
      "Answer1: Operating system is ... vs. An operating system ...\n",
      "Answer2: 1)Application softwa... vs. there are two major ...\n",
      "Answer3: We have 2 options hi... vs. They could be given ...\n",
      "Answer4: HTML is a particular... vs. HTML is a particular...\n",
      "-----------------\n",
      "Literally the same Answers = 2/4 --> B-M,80.5%\n",
      "Their answers : \n",
      "Answer1: An operating system ... vs. An operating system ...\n",
      "Answer2: Software is divided ... vs. Software is divided ...\n",
      "Answer3: A multiprogramming s... vs. Basically multiprogr...\n",
      "Answer4: XML allows the devel... vs. XML allows the devel...\n",
      "-----------------\n",
      "Literally the same Answers = 1/4 --> B-E,79.0%\n",
      "Their answers : \n",
      "Answer1: An operating system ... vs. An operating system ...\n",
      "Answer2: System software is a... vs. System software is a...\n",
      "Answer3: There is a system ca... vs. There is a system ca...\n",
      "Answer4: XML provides a frame... vs. XML is abbreviation ...\n",
      "-----------------\n",
      "Literally the same Answers = 2/4 --> B-İ,84.5%\n",
      "Their answers : \n",
      "Answer1: An operating system ... vs. operating system is ...\n",
      "Answer2: Application software... vs. System software perf...\n",
      "Answer3: They could be given ... vs. They could be given ...\n",
      "Answer4: HTML is a particular... vs. HTML is a particular...\n",
      "-----------------\n",
      "Literally the same Answers = 3/4 --> B-E,79.0%\n",
      "Their answers : \n",
      "Answer1: An operating system ... vs. An operating system ...\n",
      "Answer2: Application software... vs. there are two major ...\n",
      "Answer3: They could be given ... vs. They could be given ...\n",
      "Answer4: HTML is a particular... vs. HTML is a particular...\n",
      "-----------------\n",
      "Literally the same Answers = 2/4 --> İ-E,83.25%\n",
      "Their answers : \n",
      "Answer1: operating system is ... vs. An operating system ...\n",
      "Answer2: System software perf... vs. there are two major ...\n",
      "Answer3: They could be given ... vs. They could be given ...\n",
      "Answer4: HTML is a particular... vs. HTML is a particular...\n",
      "-----------------\n"
     ]
    }
   ],
   "source": [
    "# Main loop\n",
    "for student1 in range(len(name_and_notes)):\n",
    "    for student2 in range(student1+1,len(name_and_notes)):\n",
    "        similarityrate = 0\n",
    "        sameanswers = 0\n",
    "        ans = []\n",
    "        for quiz in range(1,5):\n",
    "            similarity = similar(name_and_notes[student1][quiz],name_and_notes[student2][quiz])\n",
    "            ans.append([name_and_notes[student1][quiz][:20],name_and_notes[student2][quiz][:20]])\n",
    "            if similarity == 1.0:\n",
    "                sameanswers += 1\n",
    "            similarityrate += similarity\n",
    "        \n",
    "        if similarityrate >= 3:\n",
    "            print(f'Literally the same Answers = {sameanswers}/4 --> {name_and_notes[student1][0][0]}-{name_and_notes[student2][0][0]},{round(similarityrate,2)*25}%')\n",
    "            print('Their answers : ')\n",
    "            for p in range(len(ans)):\n",
    "                print(f'Answer{p+1}: {ans[p][0]}... vs. {ans[p][1]}...')\n",
    "            print('-----------------')"
   ]
  },
  {
   "cell_type": "markdown",
   "metadata": {},
   "source": [
    "## Doing the same process for second quiz."
   ]
  },
  {
   "cell_type": "code",
   "execution_count": 24,
   "metadata": {},
   "outputs": [],
   "source": [
    "df = pd.read_excel('ceng111_2.xlsx',na_values = '')"
   ]
  },
  {
   "cell_type": "code",
   "execution_count": 25,
   "metadata": {},
   "outputs": [],
   "source": [
    "# Preparing the comparing list\n",
    "name_and_notes = []\n",
    "for i,j in df.iloc[1:len(df)].iterrows():\n",
    "    if '@' in j.Name:\n",
    "        j.Name = j.Name.split('@')[0]\n",
    "    j.Name = j.Name.upper().replace(' ','')\n",
    "    notes = [j.Name , j.Q1, j.Q2, j.Q3, j.Q4]\n",
    "    name_and_notes.append(notes)"
   ]
  },
  {
   "cell_type": "code",
   "execution_count": 26,
   "metadata": {},
   "outputs": [
    {
     "name": "stdout",
     "output_type": "stream",
     "text": [
      "Literally the same Answers = 0/4 --> B-H,86.25%\n",
      "Their answers : \n",
      "Answer1: Unlike TCP, UDP is a... vs. Unlike TCP,UDP is a ...\n",
      "Answer2: Both connect two bus... vs. Both connect two bus...\n",
      "Answer3: Phishing is a techni... vs. pishing is a techniq...\n",
      "Answer4: In the case of a pub... vs. In the case of a pub...\n",
      "-----------------\n",
      "Literally the same Answers = 4/4 --> B-İ,100.0%\n",
      "Their answers : \n",
      "Answer1: Unlike TCP, UDP is a... vs. Unlike TCP, UDP is a...\n",
      "Answer2: Both connect two bus... vs. Both connect two bus...\n",
      "Answer3: Phishing is a techni... vs. Phishing is a techni...\n",
      "Answer4: In the case of a pub... vs. In the case of a pub...\n",
      "-----------------\n",
      "Literally the same Answers = 3/4 --> B-E,77.0%\n",
      "Their answers : \n",
      "Answer1: Unlike TCP, UDP is a... vs.  TCP transport layer...\n",
      "Answer2: Both connect two bus... vs. Both connect two bus...\n",
      "Answer3: Phishing is a techni... vs. Phishing is a techni...\n",
      "Answer4: In the case of a pub... vs. In the case of a pub...\n",
      "-----------------\n",
      "Literally the same Answers = 2/4 --> O-B,78.0%\n",
      "Their answers : \n",
      "Answer1: TCP is a connection-... vs. TCP is a connection-...\n",
      "Answer2: A switch can handle ... vs. A switch can handle ...\n",
      "Answer3: Phishing is a techni... vs. Phishing is a techni...\n",
      "Answer4: In asymmetric or pub... vs. In asymmetric or pub...\n",
      "-----------------\n",
      "Literally the same Answers = 2/4 --> O-M,82.0%\n",
      "Their answers : \n",
      "Answer1: TCP is a connection-... vs. TCP is a connection-...\n",
      "Answer2: A switch can handle ... vs. A switch can handle ...\n",
      "Answer3: Phishing is a techni... vs. Phishing is a type o...\n",
      "Answer4: In asymmetric or pub... vs. In asymmetric or pub...\n",
      "-----------------\n",
      "Literally the same Answers = 2/4 --> T-İ,75.0%\n",
      "Their answers : \n",
      "Answer1: Unlike TCP, UDP is a... vs. Unlike TCP, UDP is a...\n",
      "Answer2: A switch can handle ... vs. Both connect two bus...\n",
      "Answer3: Phishing is a techni... vs. Phishing is a techni...\n",
      "Answer4: In the case of publi... vs. In the case of a pub...\n",
      "-----------------\n",
      "Literally the same Answers = 1/4 --> B-F,90.25%\n",
      "Their answers : \n",
      "Answer1: TCP is connection or... vs. TCP is connection or...\n",
      "Answer2: A Bridge is a device... vs. A Bridge is a device...\n",
      "Answer3: Ransomware invades a... vs. Phishing is a method...\n",
      "Answer4: In asymmetric or pub... vs. In asymmetric or pub...\n",
      "-----------------\n",
      "Literally the same Answers = 3/4 --> B-M,76.25%\n",
      "Their answers : \n",
      "Answer1: TCP is a connection-... vs. TCP is a connection-...\n",
      "Answer2: A switch can handle ... vs. A switch can handle ...\n",
      "Answer3: Phishing is a techni... vs. Phishing is a type o...\n",
      "Answer4: In asymmetric or pub... vs. In asymmetric or pub...\n",
      "-----------------\n",
      "Literally the same Answers = 0/4 --> H-İ,85.0%\n",
      "Their answers : \n",
      "Answer1: Unlike TCP,UDP is a ... vs. Unlike TCP, UDP is a...\n",
      "Answer2: Both connect two bus... vs. Both connect two bus...\n",
      "Answer3: pishing is a techniq... vs. Phishing is a techni...\n",
      "Answer4: In the case of a pub... vs. In the case of a pub...\n",
      "-----------------\n",
      "Literally the same Answers = 3/4 --> İ-E,77.0%\n",
      "Their answers : \n",
      "Answer1: Unlike TCP, UDP is a... vs.  TCP transport layer...\n",
      "Answer2: Both connect two bus... vs. Both connect two bus...\n",
      "Answer3: Phishing is a techni... vs. Phishing is a techni...\n",
      "Answer4: In the case of a pub... vs. In the case of a pub...\n",
      "-----------------\n",
      "Literally the same Answers = 2/4 --> M-N,79.75%\n",
      "Their answers : \n",
      "Answer1: TCP is oriented for ... vs. TCP is oriented for ...\n",
      "Answer2: Bridge is a device t... vs. Bridge is a device t...\n",
      "Answer3: Phishing is illegal ... vs. Phishing is a techni...\n",
      "Answer4: The best advantage o... vs. The best advantage o...\n",
      "-----------------\n"
     ]
    }
   ],
   "source": [
    "# Main loop\n",
    "for student1 in range(len(name_and_notes)):\n",
    "    for student2 in range(student1+1,len(name_and_notes)):\n",
    "        similarityrate = 0\n",
    "        sameanswers = 0\n",
    "        ans = []\n",
    "        for quiz in range(1,5):\n",
    "            similarity = similar(name_and_notes[student1][quiz],name_and_notes[student2][quiz])\n",
    "            ans.append([name_and_notes[student1][quiz][:20],name_and_notes[student2][quiz][:20]])\n",
    "            if similarity == 1.0:\n",
    "                sameanswers += 1\n",
    "            similarityrate += similarity\n",
    "        \n",
    "        if similarityrate >= 3:\n",
    "            print(f'Literally the same Answers = {sameanswers}/4 --> {name_and_notes[student1][0][0]}-{name_and_notes[student2][0][0]},{round(similarityrate,2)*25}%')\n",
    "            print('Their answers : ')\n",
    "            for p in range(len(ans)):\n",
    "                print(f'Answer{p+1}: {ans[p][0]}... vs. {ans[p][1]}...')\n",
    "            print('-----------------')"
   ]
  },
  {
   "cell_type": "code",
   "execution_count": null,
   "metadata": {},
   "outputs": [],
   "source": []
  }
 ],
 "metadata": {
  "kernelspec": {
   "display_name": "Python 3",
   "language": "python",
   "name": "python3"
  },
  "language_info": {
   "codemirror_mode": {
    "name": "ipython",
    "version": 3
   },
   "file_extension": ".py",
   "mimetype": "text/x-python",
   "name": "python",
   "nbconvert_exporter": "python",
   "pygments_lexer": "ipython3",
   "version": "3.8.3"
  }
 },
 "nbformat": 4,
 "nbformat_minor": 4
}
